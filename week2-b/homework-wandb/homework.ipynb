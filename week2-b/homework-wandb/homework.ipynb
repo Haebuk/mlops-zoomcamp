{
 "cells": [
  {
   "attachments": {},
   "cell_type": "markdown",
   "metadata": {},
   "source": [
    "# Q1. Install the Package\n",
    "\n",
    "wandb version: 0.15.3"
   ]
  },
  {
   "attachments": {},
   "cell_type": "markdown",
   "metadata": {},
   "source": [
    "# Q2. Download and preprocess the data\n",
    "\n",
    "```\n",
    "python preprocess_data.py \\\n",
    "  --wandb_project mlops-zoomcamp-week2-hw \\\n",
    "  --wandb_entity kade \\\n",
    "  --raw_data_path ../../data \\\n",
    "  --dest_path ./output\n",
    "```\n",
    "\n",
    "153660 (154kb)\n"
   ]
  },
  {
   "attachments": {},
   "cell_type": "markdown",
   "metadata": {},
   "source": [
    "# Q3. Train a model with Weights & Biases logging\n",
    "\n",
    "```\n",
    "python train.py \\\n",
    "  --wandb_project mlops-zoomcamp-week2-hw \\\n",
    "  --wandb_entity kade \\\n",
    "  --data_artifact \"kade/mlops-zoomcamp-week2-hw/NYC-Taxi:v0\"\n",
    "```\n",
    "\n",
    "max_depth: 10"
   ]
  },
  {
   "attachments": {},
   "cell_type": "markdown",
   "metadata": {},
   "source": [
    "# Q4. Tune model hyperparameters\n",
    "\n",
    "\n"
   ]
  },
  {
   "attachments": {},
   "cell_type": "markdown",
   "metadata": {},
   "source": [
    "```\n",
    "python sweep.py \\\n",
    "  --wandb_project mlops-zoomcamp-week2-hw \\\n",
    "  --wandb_entity kade \\\n",
    "  --data_artifact \"kade/mlops-zoomcamp-week2-hw/NYC-Taxi:v0\"\n",
    "```\n",
    "\n",
    "<img width=\"520\" alt=\"image\" src=\"https://github.com/DataTalksClub/mlops-zoomcamp/assets/68543150/77d0e22a-798b-481b-9793-655dbe9312c5\">\n"
   ]
  },
  {
   "attachments": {},
   "cell_type": "markdown",
   "metadata": {},
   "source": [
    "# Q5. Link the best model to the model registry\n",
    "\n",
    "<img width=\"1440\" alt=\"image\" src=\"https://github.com/DataTalksClub/mlops-zoomcamp/assets/68543150/5b68a609-4062-4e92-a1f8-4050e4c29e91\">\n"
   ]
  },
  {
   "attachments": {},
   "cell_type": "markdown",
   "metadata": {},
   "source": [
    "All of these"
   ]
  },
  {
   "attachments": {},
   "cell_type": "markdown",
   "metadata": {},
   "source": []
  }
 ],
 "metadata": {
  "language_info": {
   "name": "python"
  },
  "orig_nbformat": 4
 },
 "nbformat": 4,
 "nbformat_minor": 2
}
