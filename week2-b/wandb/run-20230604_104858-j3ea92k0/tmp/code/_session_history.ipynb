{
 "cells": [
  {
   "cell_type": "code",
   "execution_count": 1,
   "id": "719fc63d",
   "metadata": {},
   "outputs": [],
   "source": [
    "import os\n",
    "import pickle\n",
    "\n",
    "import wandb\n",
    "import pandas as pd\n",
    "\n",
    "from sklearn.ensemble import RandomForestClassifier\n",
    "from sklearn.metrics import accuracy_score, f1_score, precision_score, recall_score"
   ]
  },
  {
   "cell_type": "code",
   "execution_count": 2,
   "id": "fd27e523",
   "metadata": {},
   "outputs": [
    {
     "data": {
      "text/html": [
       "Tracking run with wandb version 0.15.3"
      ],
      "text/plain": [
       "<IPython.core.display.HTML object>"
      ]
     },
     "metadata": {},
     "output_type": "display_data"
    },
    {
     "data": {
      "text/html": [
       "Run data is saved locally in <code>/Users/ryujaesung/kade/mlops-zoomcamp/week2-b/wandb/run-20230604_104858-j3ea92k0</code>"
      ],
      "text/plain": [
       "<IPython.core.display.HTML object>"
      ]
     },
     "metadata": {},
     "output_type": "display_data"
    },
    {
     "data": {
      "text/html": [
       "Syncing run <strong><a href='https://wandb.ai/kade/mlops-zoomcamp-wandb/runs/j3ea92k0' target=\"_blank\">baseline_experiment_1</a></strong> to <a href='https://wandb.ai/kade/mlops-zoomcamp-wandb' target=\"_blank\">Weights & Biases</a> (<a href='https://wandb.me/run' target=\"_blank\">docs</a>)<br/>"
      ],
      "text/plain": [
       "<IPython.core.display.HTML object>"
      ]
     },
     "metadata": {},
     "output_type": "display_data"
    },
    {
     "data": {
      "text/html": [
       " View project at <a href='https://wandb.ai/kade/mlops-zoomcamp-wandb' target=\"_blank\">https://wandb.ai/kade/mlops-zoomcamp-wandb</a>"
      ],
      "text/plain": [
       "<IPython.core.display.HTML object>"
      ]
     },
     "metadata": {},
     "output_type": "display_data"
    },
    {
     "data": {
      "text/html": [
       " View run at <a href='https://wandb.ai/kade/mlops-zoomcamp-wandb/runs/j3ea92k0' target=\"_blank\">https://wandb.ai/kade/mlops-zoomcamp-wandb/runs/j3ea92k0</a>"
      ],
      "text/plain": [
       "<IPython.core.display.HTML object>"
      ]
     },
     "metadata": {},
     "output_type": "display_data"
    }
   ],
   "source": [
    "wandb.init(project=\"mlops-zoomcamp-wandb\", job_type=\"train\", name=\"baseline_experiment_1\")\n",
    "\n",
    "artifact = wandb.use_artifact('kade/mlops-zoomcamp-wandb/Titanic:latest', type='dataset')\n",
    "artifact_dir = artifact.download()\n",
    "\n",
    "train_val_df = pd.read_csv(os.path.join(artifact_dir, 'train.csv'))\n",
    "test_df = pd.read_csv(os.path.join(artifact_dir, 'test.csv'))"
   ]
  },
  {
   "cell_type": "code",
   "execution_count": 3,
   "id": "2ce342a7",
   "metadata": {},
   "outputs": [],
   "source": [
    "features = [\"Pclass\", \"Sex\", \"SibSp\", \"Parch\"]\n",
    "X_train = pd.get_dummies(train_val_df[features][train_val_df[\"Split\"] == \"Train\"])\n",
    "X_val = pd.get_dummies(train_val_df[features][train_val_df[\"Split\"] == \"Validation\"])\n",
    "y_train = train_val_df[\"Survived\"][train_val_df[\"Split\"] == \"Train\"]\n",
    "y_val = train_val_df[\"Survived\"][train_val_df[\"Split\"] == \"Validation\"]"
   ]
  },
  {
   "cell_type": "code",
   "execution_count": 4,
   "id": "db3be60b",
   "metadata": {},
   "outputs": [],
   "source": [
    "model_params = {\"n_estimators\": 100, \"max_depth\": 10, \"random_state\": 1}\n",
    "wandb.config = model_params\n",
    "\n",
    "model = RandomForestClassifier(**model_params)\n",
    "model.fit(X_train, y_train)\n",
    "\n",
    "y_pred_train = model.predict(X_train)\n",
    "y_probas_train = model.predict_proba(X_train)\n",
    "y_pred_val = model.predict(X_val)\n",
    "y_probas_val = model.predict_proba(X_val)"
   ]
  },
  {
   "cell_type": "code",
   "execution_count": 5,
   "id": "02683d6a",
   "metadata": {},
   "outputs": [],
   "source": [
    "wandb.log({\n",
    "    \"train/accuracy\": accuracy_score(y_train, y_pred_train),\n",
    "    \"train/precision\": precision_score(y_train, y_pred_train),\n",
    "    \"train/recall\": recall_score(y_train, y_pred_train),\n",
    "    \"train/f1\": f1_score(y_train, y_pred_train),\n",
    "    \"val/accuracy\": accuracy_score(y_val, y_pred_val),\n",
    "    \"val/precision\": precision_score(y_val, y_pred_val),\n",
    "    \"val/recall\": recall_score(y_val, y_pred_val),\n",
    "    \"val/f1\": f1_score(y_val, y_pred_val),\n",
    "})"
   ]
  },
  {
   "cell_type": "code",
   "execution_count": 6,
   "id": "b8ba0b19",
   "metadata": {},
   "outputs": [],
   "source": [
    "label_names = [\"Not-Survived\", \"Survived\"]\n",
    "\n",
    "wandb.sklearn.plot.plot_class_proportions(y_train, y_val, label_names)\n",
    "wandb.sklearn.plot.plot_summary_metrics(model, X_train, y_train, X_val, y_val)\n",
    "wandb.sklearn.plot.plot_roc(y_val, y_probas_val, label_names)\n",
    "wandb.sklearn.plot.plot_confusion_matrix(y_val, y_pred_val, label_names)"
   ]
  },
  {
   "cell_type": "code",
   "execution_count": 7,
   "id": "7acde5a8",
   "metadata": {},
   "outputs": [],
   "source": [
    "with open(\"random_forest_classifier.pkl\", \"wb\") as f:\n",
    "    pickle.dump(model, f)\n",
    "    \n",
    "artifact = wandb.Artifact(\"titanic-random_forest_classifier\", type=\"model\")\n",
    "artifact.add_file(\"random_forest_classifier.pkl\")\n",
    "wandb.log_artifact(artifact)\n",
    "\n",
    "wandb.finish()"
   ]
  }
 ],
 "metadata": {
  "kernelspec": {
   "display_name": "Python 3",
   "language": "python",
   "name": "python3"
  },
  "language_info": {
   "codemirror_mode": {
    "name": "ipython",
    "version": 3
   },
   "file_extension": ".py",
   "mimetype": "text/x-python",
   "name": "python",
   "nbconvert_exporter": "python",
   "pygments_lexer": "ipython3",
   "version": "3.10.10"
  }
 },
 "nbformat": 4,
 "nbformat_minor": 5
}
