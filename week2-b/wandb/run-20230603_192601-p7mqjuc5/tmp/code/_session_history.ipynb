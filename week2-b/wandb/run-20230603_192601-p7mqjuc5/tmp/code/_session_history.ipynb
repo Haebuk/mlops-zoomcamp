{
 "cells": [
  {
   "cell_type": "code",
   "execution_count": 1,
   "id": "9f44b625",
   "metadata": {},
   "outputs": [],
   "source": [
    "import wandb\n",
    "\n",
    "import pickle\n",
    "\n",
    "from sklearn.linear_model import LogisticRegression\n",
    "from sklearn.datasets import load_iris\n",
    "from sklearn.metrics import accuracy_score, mean_squared_error"
   ]
  },
  {
   "cell_type": "code",
   "execution_count": 2,
   "id": "404f23d4",
   "metadata": {},
   "outputs": [
    {
     "name": "stdout",
     "output_type": "stream",
     "text": [
      "<wandb.sdk.wandb_run.Run at 0x1382f7be0>"
     ]
    },
    {
     "data": {
      "text/html": [
       "Tracking run with wandb version 0.15.3"
      ],
      "text/plain": [
       "<IPython.core.display.HTML object>"
      ]
     },
     "metadata": {},
     "output_type": "display_data"
    },
    {
     "data": {
      "text/html": [
       "Run data is saved locally in <code>/Users/ryujaesung/kade/mlops-zoomcamp/week2-b/wandb/run-20230603_192601-p7mqjuc5</code>"
      ],
      "text/plain": [
       "<IPython.core.display.HTML object>"
      ]
     },
     "metadata": {},
     "output_type": "display_data"
    },
    {
     "data": {
      "text/html": [
       "Syncing run <strong><a href='https://wandb.ai/kade/mlops-zoomcamp-wandb/runs/p7mqjuc5' target=\"_blank\">experiment-1</a></strong> to <a href='https://wandb.ai/kade/mlops-zoomcamp-wandb' target=\"_blank\">Weights & Biases</a> (<a href='https://wandb.me/run' target=\"_blank\">docs</a>)<br/>"
      ],
      "text/plain": [
       "<IPython.core.display.HTML object>"
      ]
     },
     "metadata": {},
     "output_type": "display_data"
    },
    {
     "data": {
      "text/html": [
       " View project at <a href='https://wandb.ai/kade/mlops-zoomcamp-wandb' target=\"_blank\">https://wandb.ai/kade/mlops-zoomcamp-wandb</a>"
      ],
      "text/plain": [
       "<IPython.core.display.HTML object>"
      ]
     },
     "metadata": {},
     "output_type": "display_data"
    },
    {
     "data": {
      "text/html": [
       " View run at <a href='https://wandb.ai/kade/mlops-zoomcamp-wandb/runs/p7mqjuc5' target=\"_blank\">https://wandb.ai/kade/mlops-zoomcamp-wandb/runs/p7mqjuc5</a>"
      ],
      "text/plain": [
       "<IPython.core.display.HTML object>"
      ]
     },
     "metadata": {},
     "output_type": "display_data"
    }
   ],
   "source": [
    "wandb.init(project='mlops-zoomcamp-wandb', name='experiment-1')"
   ]
  },
  {
   "cell_type": "code",
   "execution_count": 3,
   "id": "47381515",
   "metadata": {},
   "outputs": [],
   "source": [
    "X, y = load_iris(return_X_y=True)\n",
    "label_names = [\"Setosa\", \"Versicolor\", \"Virginica\"]"
   ]
  },
  {
   "cell_type": "code",
   "execution_count": 4,
   "id": "6227eaf5",
   "metadata": {},
   "outputs": [],
   "source": [
    "params = {\"C\": 0.1, \"random_state\": 42}\n",
    "wandb.config = params"
   ]
  },
  {
   "cell_type": "code",
   "execution_count": 5,
   "id": "527fc378",
   "metadata": {},
   "outputs": [],
   "source": [
    "model = LogisticRegression(**params).fit(X, y)\n",
    "y_pred = model.predict(X)\n",
    "y_probas = model.predict_proba(X)"
   ]
  },
  {
   "cell_type": "code",
   "execution_count": 6,
   "id": "53572714",
   "metadata": {},
   "outputs": [],
   "source": [
    "# log metrics\n",
    "wandb.log({\n",
    "    \"accuracy\": accuracy_score(y, y_pred),\n",
    "    \"mean_squared_error\": mean_squared_error(y, y_pred),\n",
    "})"
   ]
  },
  {
   "cell_type": "code",
   "execution_count": 7,
   "id": "cefa4bce",
   "metadata": {},
   "outputs": [],
   "source": [
    "wandb.sklearn.plot_roc(y, y_probas, label_names)"
   ]
  },
  {
   "cell_type": "code",
   "execution_count": 8,
   "id": "f6d9a2fd",
   "metadata": {},
   "outputs": [],
   "source": [
    "wandb.sklearn.plot.plot_roc(y, y_probas, label_names)"
   ]
  },
  {
   "cell_type": "code",
   "execution_count": 9,
   "id": "5af5ba37",
   "metadata": {},
   "outputs": [],
   "source": [
    "wandb.sklearn.plot.plot_precision_recall(y, y_probas, label_names)"
   ]
  },
  {
   "cell_type": "code",
   "execution_count": 10,
   "id": "8fce92ed",
   "metadata": {},
   "outputs": [],
   "source": [
    "wandb.sklearn.plot.plot_confusion_matrix(y, y_pred, label_names)"
   ]
  },
  {
   "cell_type": "code",
   "execution_count": 11,
   "id": "a7c0d723",
   "metadata": {},
   "outputs": [
    {
     "name": "stdout",
     "output_type": "stream",
     "text": [
      "<wandb.sdk.wandb_artifacts.Artifact at 0x14fdf6d10>"
     ]
    }
   ],
   "source": [
    "with open(\"logistic_regression.pkl\", \"wb\") as f:\n",
    "    pickle.dump(model, f)\n",
    "    \n",
    "artifact = wandb.Artifact(f\"iris-logistic-regression-model\", type='model')\n",
    "artifact.add_file(\"logistic_regression.pkl\")\n",
    "wandb.log_artifact(artifact)"
   ]
  },
  {
   "cell_type": "code",
   "execution_count": 12,
   "id": "b3c1c952",
   "metadata": {},
   "outputs": [],
   "source": [
    "wandb.finish()"
   ]
  }
 ],
 "metadata": {
  "kernelspec": {
   "display_name": "Python 3",
   "language": "python",
   "name": "python3"
  },
  "language_info": {
   "codemirror_mode": {
    "name": "ipython",
    "version": 3
   },
   "file_extension": ".py",
   "mimetype": "text/x-python",
   "name": "python",
   "nbconvert_exporter": "python",
   "pygments_lexer": "ipython3",
   "version": "3.10.10"
  }
 },
 "nbformat": 4,
 "nbformat_minor": 5
}
